{
 "cells": [
  {
   "cell_type": "code",
   "execution_count": 48,
   "metadata": {},
   "outputs": [],
   "source": [
    "import pandas as pd\n",
    "import nltk\n",
    "from nltk.corpus import stopwords\n",
    "from nltk.stem.snowball import SnowballStemmer\n",
    "import numpy as np\n",
    "from bs4 import BeautifulSoup\n",
    "from sklearn.feature_extraction.text import CountVectorizer, TfidfVectorizer\n",
    "import matplotlib.pyplot as plt\n"
   ]
  },
  {
   "cell_type": "code",
   "execution_count": 3,
   "metadata": {},
   "outputs": [],
   "source": [
    "df=pd.read_csv('D:\\\\python\\\\Titanic_ML\\\\sentiment\\\\sample_submission_null.csv')"
   ]
  },
  {
   "cell_type": "code",
   "execution_count": 8,
   "metadata": {},
   "outputs": [
    {
     "data": {
      "text/plain": [
       "array(['i', 'me', 'my', 'myself', 'we', 'our', 'ours', 'ourselves', 'you',\n",
       "       \"you're\", \"you've\", \"you'll\", \"you'd\", 'your', 'yours', 'yourself',\n",
       "       'yourselves', 'he', 'him', 'his', 'himself', 'she', \"she's\", 'her',\n",
       "       'hers', 'herself', 'it', \"it's\", 'its', 'itself', 'they', 'them',\n",
       "       'their', 'theirs', 'themselves', 'what', 'which', 'who', 'whom',\n",
       "       'this', 'that', \"that'll\", 'these', 'those', 'am', 'is', 'are',\n",
       "       'was', 'were', 'be', 'been', 'being', 'have', 'has', 'had',\n",
       "       'having', 'do', 'does', 'did', 'doing', 'a', 'an', 'the', 'and',\n",
       "       'but', 'if', 'or', 'because', 'as', 'until', 'while', 'of', 'at',\n",
       "       'by', 'for', 'with', 'about', 'against', 'between', 'into',\n",
       "       'through', 'during', 'before', 'after', 'above', 'below', 'to',\n",
       "       'from', 'up', 'down', 'in', 'out', 'on', 'off', 'over', 'under',\n",
       "       'again', 'further', 'then', 'once', 'here', 'there', 'when',\n",
       "       'where', 'why', 'how', 'all', 'any', 'both', 'each', 'few', 'more',\n",
       "       'most', 'other', 'some', 'such', 'no', 'nor', 'not', 'only', 'own',\n",
       "       'same', 'so', 'than', 'too', 'very', 's', 't', 'can', 'will',\n",
       "       'just', 'don', \"don't\", 'should', \"should've\", 'now', 'd', 'll',\n",
       "       'm', 'o', 're', 've', 'y', 'ain', 'aren', \"aren't\", 'couldn',\n",
       "       \"couldn't\", 'didn', \"didn't\", 'doesn', \"doesn't\", 'hadn', \"hadn't\",\n",
       "       'hasn', \"hasn't\", 'haven', \"haven't\", 'isn', \"isn't\", 'ma',\n",
       "       'mightn', \"mightn't\", 'mustn', \"mustn't\", 'needn', \"needn't\",\n",
       "       'shan', \"shan't\", 'shouldn', \"shouldn't\", 'wasn', \"wasn't\",\n",
       "       'weren', \"weren't\", 'won', \"won't\", 'wouldn', \"wouldn't\"],\n",
       "      dtype='<U10')"
      ]
     },
     "execution_count": 8,
     "metadata": {},
     "output_type": "execute_result"
    }
   ],
   "source": [
    "sw=stopwords.words('english')\n",
    "np.array(sw)"
   ]
  },
  {
   "cell_type": "code",
   "execution_count": 9,
   "metadata": {},
   "outputs": [
    {
     "name": "stdout",
     "output_type": "stream",
     "text": [
      "length of the words 179\n"
     ]
    }
   ],
   "source": [
    "print(\"length of the words\", len(sw))"
   ]
  },
  {
   "cell_type": "code",
   "execution_count": 14,
   "metadata": {},
   "outputs": [],
   "source": [
    "def remove_punctuation(comment):\n",
    "    import string\n",
    "    translator=str.maketrans('', '', string.punctuation)\n",
    "    return comment.translate(translator)"
   ]
  },
  {
   "cell_type": "code",
   "execution_count": 12,
   "metadata": {},
   "outputs": [
    {
     "data": {
      "text/plain": [
       "Index(['Insult', 'Date', 'Comment'], dtype='object')"
      ]
     },
     "execution_count": 12,
     "metadata": {},
     "output_type": "execute_result"
    }
   ],
   "source": [
    "df.columns"
   ]
  },
  {
   "cell_type": "code",
   "execution_count": 15,
   "metadata": {},
   "outputs": [
    {
     "data": {
      "text/html": [
       "<div>\n",
       "<style scoped>\n",
       "    .dataframe tbody tr th:only-of-type {\n",
       "        vertical-align: middle;\n",
       "    }\n",
       "\n",
       "    .dataframe tbody tr th {\n",
       "        vertical-align: top;\n",
       "    }\n",
       "\n",
       "    .dataframe thead th {\n",
       "        text-align: right;\n",
       "    }\n",
       "</style>\n",
       "<table border=\"1\" class=\"dataframe\">\n",
       "  <thead>\n",
       "    <tr style=\"text-align: right;\">\n",
       "      <th></th>\n",
       "      <th>Insult</th>\n",
       "      <th>Date</th>\n",
       "      <th>Comment</th>\n",
       "    </tr>\n",
       "  </thead>\n",
       "  <tbody>\n",
       "    <tr>\n",
       "      <th>0</th>\n",
       "      <td>0</td>\n",
       "      <td>NaN</td>\n",
       "      <td>THE DRUDGE REPORTnnnnYou wont see this story o...</td>\n",
       "    </tr>\n",
       "    <tr>\n",
       "      <th>1</th>\n",
       "      <td>0</td>\n",
       "      <td>20120618222256Z</td>\n",
       "      <td>ian21xa0Roger Clemens is the fucking man and n...</td>\n",
       "    </tr>\n",
       "    <tr>\n",
       "      <th>2</th>\n",
       "      <td>0</td>\n",
       "      <td>20120618213617Z</td>\n",
       "      <td>Agree with Alan you are an extremest idiot   Y...</td>\n",
       "    </tr>\n",
       "    <tr>\n",
       "      <th>3</th>\n",
       "      <td>0</td>\n",
       "      <td>NaN</td>\n",
       "      <td>ReallynnI see Marc Lamont Hill on various prog...</td>\n",
       "    </tr>\n",
       "    <tr>\n",
       "      <th>4</th>\n",
       "      <td>0</td>\n",
       "      <td>20120620003825Z</td>\n",
       "      <td>Really suck isnt the word when many of our nuc...</td>\n",
       "    </tr>\n",
       "    <tr>\n",
       "      <th>5</th>\n",
       "      <td>0</td>\n",
       "      <td>NaN</td>\n",
       "      <td>after a couple guys like him rape him first</td>\n",
       "    </tr>\n",
       "    <tr>\n",
       "      <th>6</th>\n",
       "      <td>0</td>\n",
       "      <td>20120529201500Z</td>\n",
       "      <td>Matthews mentored Perry at USC  Bodes well</td>\n",
       "    </tr>\n",
       "    <tr>\n",
       "      <th>7</th>\n",
       "      <td>0</td>\n",
       "      <td>20120619145613Z</td>\n",
       "      <td>How about we accept facts and patiently wait f...</td>\n",
       "    </tr>\n",
       "    <tr>\n",
       "      <th>8</th>\n",
       "      <td>0</td>\n",
       "      <td>20120609165037Z</td>\n",
       "      <td>To engage in an intelligent debate with you is...</td>\n",
       "    </tr>\n",
       "    <tr>\n",
       "      <th>9</th>\n",
       "      <td>0</td>\n",
       "      <td>20120612145537Z</td>\n",
       "      <td>Same reason no one cared Obama did cocaine whi...</td>\n",
       "    </tr>\n",
       "  </tbody>\n",
       "</table>\n",
       "</div>"
      ],
      "text/plain": [
       "   Insult             Date                                            Comment\n",
       "0       0              NaN  THE DRUDGE REPORTnnnnYou wont see this story o...\n",
       "1       0  20120618222256Z  ian21xa0Roger Clemens is the fucking man and n...\n",
       "2       0  20120618213617Z  Agree with Alan you are an extremest idiot   Y...\n",
       "3       0              NaN  ReallynnI see Marc Lamont Hill on various prog...\n",
       "4       0  20120620003825Z  Really suck isnt the word when many of our nuc...\n",
       "5       0              NaN        after a couple guys like him rape him first\n",
       "6       0  20120529201500Z         Matthews mentored Perry at USC  Bodes well\n",
       "7       0  20120619145613Z  How about we accept facts and patiently wait f...\n",
       "8       0  20120609165037Z  To engage in an intelligent debate with you is...\n",
       "9       0  20120612145537Z  Same reason no one cared Obama did cocaine whi..."
      ]
     },
     "execution_count": 15,
     "metadata": {},
     "output_type": "execute_result"
    }
   ],
   "source": [
    "df['Comment']=df['Comment'].apply(remove_punctuation)\n",
    "df.head(10)"
   ]
  },
  {
   "cell_type": "code",
   "execution_count": 18,
   "metadata": {},
   "outputs": [],
   "source": [
    "def remove_stopwords(comment):\n",
    "    comment=[word.lower() for word in comment.split() if word.lower() not in sw]\n",
    "    return \",\".join(comment)"
   ]
  },
  {
   "cell_type": "code",
   "execution_count": 19,
   "metadata": {},
   "outputs": [
    {
     "data": {
      "text/html": [
       "<div>\n",
       "<style scoped>\n",
       "    .dataframe tbody tr th:only-of-type {\n",
       "        vertical-align: middle;\n",
       "    }\n",
       "\n",
       "    .dataframe tbody tr th {\n",
       "        vertical-align: top;\n",
       "    }\n",
       "\n",
       "    .dataframe thead th {\n",
       "        text-align: right;\n",
       "    }\n",
       "</style>\n",
       "<table border=\"1\" class=\"dataframe\">\n",
       "  <thead>\n",
       "    <tr style=\"text-align: right;\">\n",
       "      <th></th>\n",
       "      <th>Insult</th>\n",
       "      <th>Date</th>\n",
       "      <th>Comment</th>\n",
       "    </tr>\n",
       "  </thead>\n",
       "  <tbody>\n",
       "    <tr>\n",
       "      <th>0</th>\n",
       "      <td>0</td>\n",
       "      <td>NaN</td>\n",
       "      <td>drudge,reportnnnnyou,wont,see,story,foxfag,for...</td>\n",
       "    </tr>\n",
       "    <tr>\n",
       "      <th>1</th>\n",
       "      <td>0</td>\n",
       "      <td>20120618222256Z</td>\n",
       "      <td>ian21xa0roger,clemens,fucking,man,never,fuckin...</td>\n",
       "    </tr>\n",
       "    <tr>\n",
       "      <th>2</th>\n",
       "      <td>0</td>\n",
       "      <td>20120618213617Z</td>\n",
       "      <td>agree,alan,extremest,idiot,american,native,ame...</td>\n",
       "    </tr>\n",
       "    <tr>\n",
       "      <th>3</th>\n",
       "      <td>0</td>\n",
       "      <td>NaN</td>\n",
       "      <td>reallynni,see,marc,lamont,hill,various,program...</td>\n",
       "    </tr>\n",
       "    <tr>\n",
       "      <th>4</th>\n",
       "      <td>0</td>\n",
       "      <td>20120620003825Z</td>\n",
       "      <td>really,suck,isnt,word,many,nuclear,power,plant...</td>\n",
       "    </tr>\n",
       "  </tbody>\n",
       "</table>\n",
       "</div>"
      ],
      "text/plain": [
       "   Insult             Date                                            Comment\n",
       "0       0              NaN  drudge,reportnnnnyou,wont,see,story,foxfag,for...\n",
       "1       0  20120618222256Z  ian21xa0roger,clemens,fucking,man,never,fuckin...\n",
       "2       0  20120618213617Z  agree,alan,extremest,idiot,american,native,ame...\n",
       "3       0              NaN  reallynni,see,marc,lamont,hill,various,program...\n",
       "4       0  20120620003825Z  really,suck,isnt,word,many,nuclear,power,plant..."
      ]
     },
     "execution_count": 19,
     "metadata": {},
     "output_type": "execute_result"
    }
   ],
   "source": [
    "df['Comment']=df['Comment'].apply(remove_stopwords)\n",
    "df.head()"
   ]
  },
  {
   "cell_type": "code",
   "execution_count": 21,
   "metadata": {},
   "outputs": [],
   "source": [
    "count_vectorizer=CountVectorizer()\n",
    "count_vectorizer.fit(df['Comment'])\n",
    "dictonary=count_vectorizer.vocabulary_.items()"
   ]
  },
  {
   "cell_type": "code",
   "execution_count": 22,
   "metadata": {},
   "outputs": [],
   "source": [
    "vocab=[]\n",
    "count=[]\n",
    "\n",
    "for key, val in dictonary:\n",
    "    vocab.append(key)\n",
    "    count.append(val)\n",
    "    \n",
    "vocab_bef_stem=pd.Series(count, index=vocab)\n",
    "vocab_bef_stem=vocab_bef_stem.sort_values(ascending=False)"
   ]
  },
  {
   "cell_type": "code",
   "execution_count": 35,
   "metadata": {},
   "outputs": [
    {
     "data": {
      "image/png": "[encoded data removed]",
      "text/plain": [
       "<Figure size 576x720 with 1 Axes>"
      ]
     },
     "metadata": {},
     "output_type": "display_data"
    }
   ],
   "source": [
    "top_vocabs=vocab_bef_stem.head(20)\n",
    "top_vocabs.plot(kind='barh', figsize=(8,10), xlim=(13000, 15000))\n",
    "plt.show()"
   ]
  },
  {
   "cell_type": "code",
   "execution_count": 40,
   "metadata": {},
   "outputs": [],
   "source": [
    "\n",
    "stemmer=SnowballStemmer('english')\n",
    "\n",
    "def stemming(comment):\n",
    "    text=[stemmer.stem(word) for word in comment.split()]\n",
    "    return ''.join(comment)"
   ]
  },
  {
   "cell_type": "code",
   "execution_count": 41,
   "metadata": {},
   "outputs": [
    {
     "data": {
      "text/html": [
       "<div>\n",
       "<style scoped>\n",
       "    .dataframe tbody tr th:only-of-type {\n",
       "        vertical-align: middle;\n",
       "    }\n",
       "\n",
       "    .dataframe tbody tr th {\n",
       "        vertical-align: top;\n",
       "    }\n",
       "\n",
       "    .dataframe thead th {\n",
       "        text-align: right;\n",
       "    }\n",
       "</style>\n",
       "<table border=\"1\" class=\"dataframe\">\n",
       "  <thead>\n",
       "    <tr style=\"text-align: right;\">\n",
       "      <th></th>\n",
       "      <th>Insult</th>\n",
       "      <th>Date</th>\n",
       "      <th>Comment</th>\n",
       "    </tr>\n",
       "  </thead>\n",
       "  <tbody>\n",
       "    <tr>\n",
       "      <th>0</th>\n",
       "      <td>0</td>\n",
       "      <td>NaN</td>\n",
       "      <td>d r u d g e , r e p o r t n n n n y o u , w o ...</td>\n",
       "    </tr>\n",
       "    <tr>\n",
       "      <th>1</th>\n",
       "      <td>0</td>\n",
       "      <td>20120618222256Z</td>\n",
       "      <td>i a n 2 1 x a 0 r o g e r , c l e m e n s , f ...</td>\n",
       "    </tr>\n",
       "    <tr>\n",
       "      <th>2</th>\n",
       "      <td>0</td>\n",
       "      <td>20120618213617Z</td>\n",
       "      <td>a g r e e , a l a n , e x t r e m e s t , i d ...</td>\n",
       "    </tr>\n",
       "    <tr>\n",
       "      <th>3</th>\n",
       "      <td>0</td>\n",
       "      <td>NaN</td>\n",
       "      <td>r e a l l y n n i , s e e , m a r c , l a m o ...</td>\n",
       "    </tr>\n",
       "    <tr>\n",
       "      <th>4</th>\n",
       "      <td>0</td>\n",
       "      <td>20120620003825Z</td>\n",
       "      <td>r e a l l y , s u c k , i s n t , w o r d , m ...</td>\n",
       "    </tr>\n",
       "    <tr>\n",
       "      <th>5</th>\n",
       "      <td>0</td>\n",
       "      <td>NaN</td>\n",
       "      <td>c o u p l e , g u y s , l i k e , r a p e , f ...</td>\n",
       "    </tr>\n",
       "    <tr>\n",
       "      <th>6</th>\n",
       "      <td>0</td>\n",
       "      <td>20120529201500Z</td>\n",
       "      <td>m a t t h e w s , m e n t o r e d , p e r r y ...</td>\n",
       "    </tr>\n",
       "    <tr>\n",
       "      <th>7</th>\n",
       "      <td>0</td>\n",
       "      <td>20120619145613Z</td>\n",
       "      <td>a c c e p t , f a c t s , p a t i e n t l y , ...</td>\n",
       "    </tr>\n",
       "    <tr>\n",
       "      <th>8</th>\n",
       "      <td>0</td>\n",
       "      <td>20120609165037Z</td>\n",
       "      <td>e n g a g e , i n t e l l i g e n t , d e b a ...</td>\n",
       "    </tr>\n",
       "    <tr>\n",
       "      <th>9</th>\n",
       "      <td>0</td>\n",
       "      <td>20120612145537Z</td>\n",
       "      <td>r e a s o n , o n e , c a r e d , o b a m a , ...</td>\n",
       "    </tr>\n",
       "  </tbody>\n",
       "</table>\n",
       "</div>"
      ],
      "text/plain": [
       "   Insult             Date                                            Comment\n",
       "0       0              NaN  d r u d g e , r e p o r t n n n n y o u , w o ...\n",
       "1       0  20120618222256Z  i a n 2 1 x a 0 r o g e r , c l e m e n s , f ...\n",
       "2       0  20120618213617Z  a g r e e , a l a n , e x t r e m e s t , i d ...\n",
       "3       0              NaN  r e a l l y n n i , s e e , m a r c , l a m o ...\n",
       "4       0  20120620003825Z  r e a l l y , s u c k , i s n t , w o r d , m ...\n",
       "5       0              NaN  c o u p l e , g u y s , l i k e , r a p e , f ...\n",
       "6       0  20120529201500Z  m a t t h e w s , m e n t o r e d , p e r r y ...\n",
       "7       0  20120619145613Z  a c c e p t , f a c t s , p a t i e n t l y , ...\n",
       "8       0  20120609165037Z  e n g a g e , i n t e l l i g e n t , d e b a ...\n",
       "9       0  20120612145537Z  r e a s o n , o n e , c a r e d , o b a m a , ..."
      ]
     },
     "execution_count": 41,
     "metadata": {},
     "output_type": "execute_result"
    }
   ],
   "source": [
    "df['Comment']=df['Comment'].apply(stemming)\n",
    "df.head(10)"
   ]
  },
  {
   "cell_type": "code",
   "execution_count": 42,
   "metadata": {},
   "outputs": [
    {
     "name": "stdout",
     "output_type": "stream",
     "text": [
      "<class 'pandas.core.frame.DataFrame'>\n",
      "RangeIndex: 2647 entries, 0 to 2646\n",
      "Data columns (total 3 columns):\n",
      "Insult     2647 non-null int64\n",
      "Date       2123 non-null object\n",
      "Comment    2647 non-null object\n",
      "dtypes: int64(1), object(2)\n",
      "memory usage: 62.1+ KB\n"
     ]
    }
   ],
   "source": [
    "df.info()"
   ]
  },
  {
   "cell_type": "code",
   "execution_count": 54,
   "metadata": {},
   "outputs": [],
   "source": [
    "train=pd.read_csv('D:\\\\python\\\\Titanic_ML\\\\sentiment\\\\train.csv', parse_dates=[\"Date\"])"
   ]
  },
  {
   "cell_type": "code",
   "execution_count": 55,
   "metadata": {},
   "outputs": [
    {
     "data": {
      "text/html": [
       "<div>\n",
       "<style scoped>\n",
       "    .dataframe tbody tr th:only-of-type {\n",
       "        vertical-align: middle;\n",
       "    }\n",
       "\n",
       "    .dataframe tbody tr th {\n",
       "        vertical-align: top;\n",
       "    }\n",
       "\n",
       "    .dataframe thead th {\n",
       "        text-align: right;\n",
       "    }\n",
       "</style>\n",
       "<table border=\"1\" class=\"dataframe\">\n",
       "  <thead>\n",
       "    <tr style=\"text-align: right;\">\n",
       "      <th></th>\n",
       "      <th>Insult</th>\n",
       "      <th>Date</th>\n",
       "      <th>Comment</th>\n",
       "    </tr>\n",
       "  </thead>\n",
       "  <tbody>\n",
       "    <tr>\n",
       "      <th>0</th>\n",
       "      <td>1</td>\n",
       "      <td>2012-06-18 19:21:55</td>\n",
       "      <td>\"You fuck your dad.\"</td>\n",
       "    </tr>\n",
       "    <tr>\n",
       "      <th>1</th>\n",
       "      <td>0</td>\n",
       "      <td>2012-05-28 19:22:15</td>\n",
       "      <td>\"i really don't understand your point.\\xa0 It ...</td>\n",
       "    </tr>\n",
       "    <tr>\n",
       "      <th>2</th>\n",
       "      <td>0</td>\n",
       "      <td>NaT</td>\n",
       "      <td>\"A\\\\xc2\\\\xa0majority of Canadians can and has ...</td>\n",
       "    </tr>\n",
       "    <tr>\n",
       "      <th>3</th>\n",
       "      <td>0</td>\n",
       "      <td>NaT</td>\n",
       "      <td>\"listen if you dont wanna get married to a man...</td>\n",
       "    </tr>\n",
       "    <tr>\n",
       "      <th>4</th>\n",
       "      <td>0</td>\n",
       "      <td>2012-06-19 09:47:53</td>\n",
       "      <td>\"C\\xe1c b\\u1ea1n xu\\u1ed1ng \\u0111\\u01b0\\u1edd...</td>\n",
       "    </tr>\n",
       "    <tr>\n",
       "      <th>5</th>\n",
       "      <td>0</td>\n",
       "      <td>2012-06-20 17:12:26</td>\n",
       "      <td>\"@SDL OK, but I would hope they'd sign him to ...</td>\n",
       "    </tr>\n",
       "    <tr>\n",
       "      <th>6</th>\n",
       "      <td>0</td>\n",
       "      <td>2012-05-03 01:26:28</td>\n",
       "      <td>\"Yeah and where are you now?\"</td>\n",
       "    </tr>\n",
       "    <tr>\n",
       "      <th>7</th>\n",
       "      <td>1</td>\n",
       "      <td>NaT</td>\n",
       "      <td>\"shut the fuck up. you and the rest of your fa...</td>\n",
       "    </tr>\n",
       "    <tr>\n",
       "      <th>8</th>\n",
       "      <td>1</td>\n",
       "      <td>2012-05-02 17:35:53</td>\n",
       "      <td>\"Either you are fake or extremely stupid...may...</td>\n",
       "    </tr>\n",
       "    <tr>\n",
       "      <th>9</th>\n",
       "      <td>1</td>\n",
       "      <td>2012-06-20 16:05:12</td>\n",
       "      <td>\"That you are an idiot who understands neither...</td>\n",
       "    </tr>\n",
       "  </tbody>\n",
       "</table>\n",
       "</div>"
      ],
      "text/plain": [
       "   Insult                Date  \\\n",
       "0       1 2012-06-18 19:21:55   \n",
       "1       0 2012-05-28 19:22:15   \n",
       "2       0                 NaT   \n",
       "3       0                 NaT   \n",
       "4       0 2012-06-19 09:47:53   \n",
       "5       0 2012-06-20 17:12:26   \n",
       "6       0 2012-05-03 01:26:28   \n",
       "7       1                 NaT   \n",
       "8       1 2012-05-02 17:35:53   \n",
       "9       1 2012-06-20 16:05:12   \n",
       "\n",
       "                                             Comment  \n",
       "0                               \"You fuck your dad.\"  \n",
       "1  \"i really don't understand your point.\\xa0 It ...  \n",
       "2  \"A\\\\xc2\\\\xa0majority of Canadians can and has ...  \n",
       "3  \"listen if you dont wanna get married to a man...  \n",
       "4  \"C\\xe1c b\\u1ea1n xu\\u1ed1ng \\u0111\\u01b0\\u1edd...  \n",
       "5  \"@SDL OK, but I would hope they'd sign him to ...  \n",
       "6                      \"Yeah and where are you now?\"  \n",
       "7  \"shut the fuck up. you and the rest of your fa...  \n",
       "8  \"Either you are fake or extremely stupid...may...  \n",
       "9  \"That you are an idiot who understands neither...  "
      ]
     },
     "execution_count": 55,
     "metadata": {},
     "output_type": "execute_result"
    }
   ],
   "source": [
    "train.head(10)"
   ]
  },
  {
   "cell_type": "code",
   "execution_count": 56,
   "metadata": {},
   "outputs": [
    {
     "name": "stdout",
     "output_type": "stream",
     "text": [
      "<class 'pandas.core.frame.DataFrame'>\n",
      "RangeIndex: 3947 entries, 0 to 3946\n",
      "Data columns (total 3 columns):\n",
      "Insult     3947 non-null int64\n",
      "Date       3229 non-null datetime64[ns]\n",
      "Comment    3947 non-null object\n",
      "dtypes: datetime64[ns](1), int64(1), object(1)\n",
      "memory usage: 92.6+ KB\n"
     ]
    }
   ],
   "source": [
    "train.info()"
   ]
  },
  {
   "cell_type": "code",
   "execution_count": 57,
   "metadata": {},
   "outputs": [
    {
     "data": {
      "text/plain": [
       "0    2898\n",
       "1    1049\n",
       "Name: Insult, dtype: int64"
      ]
     },
     "execution_count": 57,
     "metadata": {},
     "output_type": "execute_result"
    }
   ],
   "source": [
    "train.Insult.value_counts()"
   ]
  },
  {
   "cell_type": "code",
   "execution_count": 59,
   "metadata": {},
   "outputs": [
    {
     "data": {
      "text/plain": [
       "False    3229\n",
       "True      718\n",
       "Name: Date, dtype: int64"
      ]
     },
     "execution_count": 59,
     "metadata": {},
     "output_type": "execute_result"
    }
   ],
   "source": [
    "train.Date.isnull().value_counts()"
   ]
  },
  {
   "cell_type": "code",
   "execution_count": 61,
   "metadata": {},
   "outputs": [
    {
     "data": {
      "text/html": [
       "<div>\n",
       "<style scoped>\n",
       "    .dataframe tbody tr th:only-of-type {\n",
       "        vertical-align: middle;\n",
       "    }\n",
       "\n",
       "    .dataframe tbody tr th {\n",
       "        vertical-align: top;\n",
       "    }\n",
       "\n",
       "    .dataframe thead th {\n",
       "        text-align: right;\n",
       "    }\n",
       "</style>\n",
       "<table border=\"1\" class=\"dataframe\">\n",
       "  <thead>\n",
       "    <tr style=\"text-align: right;\">\n",
       "      <th></th>\n",
       "      <th>Insult</th>\n",
       "      <th>Date</th>\n",
       "      <th>Comment</th>\n",
       "    </tr>\n",
       "  </thead>\n",
       "  <tbody>\n",
       "    <tr>\n",
       "      <th>0</th>\n",
       "      <td>1</td>\n",
       "      <td>2012-06-18 19:21:55</td>\n",
       "      <td>You fuck your dad</td>\n",
       "    </tr>\n",
       "    <tr>\n",
       "      <th>1</th>\n",
       "      <td>0</td>\n",
       "      <td>2012-05-28 19:22:15</td>\n",
       "      <td>i really dont understand your pointxa0 It seem...</td>\n",
       "    </tr>\n",
       "    <tr>\n",
       "      <th>2</th>\n",
       "      <td>0</td>\n",
       "      <td>NaT</td>\n",
       "      <td>Axc2xa0majority of Canadians can and has been ...</td>\n",
       "    </tr>\n",
       "    <tr>\n",
       "      <th>3</th>\n",
       "      <td>0</td>\n",
       "      <td>NaT</td>\n",
       "      <td>listen if you dont wanna get married to a man ...</td>\n",
       "    </tr>\n",
       "    <tr>\n",
       "      <th>4</th>\n",
       "      <td>0</td>\n",
       "      <td>2012-06-19 09:47:53</td>\n",
       "      <td>Cxe1c bu1ea1n xuu1ed1ng u0111u01b0u1eddng biu1...</td>\n",
       "    </tr>\n",
       "    <tr>\n",
       "      <th>5</th>\n",
       "      <td>0</td>\n",
       "      <td>2012-06-20 17:12:26</td>\n",
       "      <td>SDL OK but I would hope theyd sign him to a on...</td>\n",
       "    </tr>\n",
       "    <tr>\n",
       "      <th>6</th>\n",
       "      <td>0</td>\n",
       "      <td>2012-05-03 01:26:28</td>\n",
       "      <td>Yeah and where are you now</td>\n",
       "    </tr>\n",
       "    <tr>\n",
       "      <th>7</th>\n",
       "      <td>1</td>\n",
       "      <td>NaT</td>\n",
       "      <td>shut the fuck up you and the rest of your fagg...</td>\n",
       "    </tr>\n",
       "    <tr>\n",
       "      <th>8</th>\n",
       "      <td>1</td>\n",
       "      <td>2012-05-02 17:35:53</td>\n",
       "      <td>Either you are fake or extremely stupidmaybe both</td>\n",
       "    </tr>\n",
       "    <tr>\n",
       "      <th>9</th>\n",
       "      <td>1</td>\n",
       "      <td>2012-06-20 16:05:12</td>\n",
       "      <td>That you are an idiot who understands neither ...</td>\n",
       "    </tr>\n",
       "  </tbody>\n",
       "</table>\n",
       "</div>"
      ],
      "text/plain": [
       "   Insult                Date  \\\n",
       "0       1 2012-06-18 19:21:55   \n",
       "1       0 2012-05-28 19:22:15   \n",
       "2       0                 NaT   \n",
       "3       0                 NaT   \n",
       "4       0 2012-06-19 09:47:53   \n",
       "5       0 2012-06-20 17:12:26   \n",
       "6       0 2012-05-03 01:26:28   \n",
       "7       1                 NaT   \n",
       "8       1 2012-05-02 17:35:53   \n",
       "9       1 2012-06-20 16:05:12   \n",
       "\n",
       "                                             Comment  \n",
       "0                                  You fuck your dad  \n",
       "1  i really dont understand your pointxa0 It seem...  \n",
       "2  Axc2xa0majority of Canadians can and has been ...  \n",
       "3  listen if you dont wanna get married to a man ...  \n",
       "4  Cxe1c bu1ea1n xuu1ed1ng u0111u01b0u1eddng biu1...  \n",
       "5  SDL OK but I would hope theyd sign him to a on...  \n",
       "6                         Yeah and where are you now  \n",
       "7  shut the fuck up you and the rest of your fagg...  \n",
       "8  Either you are fake or extremely stupidmaybe both  \n",
       "9  That you are an idiot who understands neither ...  "
      ]
     },
     "execution_count": 61,
     "metadata": {},
     "output_type": "execute_result"
    }
   ],
   "source": [
    "train['Comment']=train['Comment'].apply(remove_punctuation)\n",
    "train.head(10)"
   ]
  },
  {
   "cell_type": "code",
   "execution_count": 62,
   "metadata": {},
   "outputs": [
    {
     "data": {
      "text/html": [
       "<div>\n",
       "<style scoped>\n",
       "    .dataframe tbody tr th:only-of-type {\n",
       "        vertical-align: middle;\n",
       "    }\n",
       "\n",
       "    .dataframe tbody tr th {\n",
       "        vertical-align: top;\n",
       "    }\n",
       "\n",
       "    .dataframe thead th {\n",
       "        text-align: right;\n",
       "    }\n",
       "</style>\n",
       "<table border=\"1\" class=\"dataframe\">\n",
       "  <thead>\n",
       "    <tr style=\"text-align: right;\">\n",
       "      <th></th>\n",
       "      <th>Insult</th>\n",
       "      <th>Date</th>\n",
       "      <th>Comment</th>\n",
       "    </tr>\n",
       "  </thead>\n",
       "  <tbody>\n",
       "    <tr>\n",
       "      <th>0</th>\n",
       "      <td>1</td>\n",
       "      <td>2012-06-18 19:21:55</td>\n",
       "      <td>fuck,dad</td>\n",
       "    </tr>\n",
       "    <tr>\n",
       "      <th>1</th>\n",
       "      <td>0</td>\n",
       "      <td>2012-05-28 19:22:15</td>\n",
       "      <td>really,dont,understand,pointxa0,seems,mixing,a...</td>\n",
       "    </tr>\n",
       "    <tr>\n",
       "      <th>2</th>\n",
       "      <td>0</td>\n",
       "      <td>NaT</td>\n",
       "      <td>axc2xa0majority,canadians,wrong,againnnunless,...</td>\n",
       "    </tr>\n",
       "    <tr>\n",
       "      <th>3</th>\n",
       "      <td>0</td>\n",
       "      <td>NaT</td>\n",
       "      <td>listen,dont,wanna,get,married,man,women,dont,w...</td>\n",
       "    </tr>\n",
       "    <tr>\n",
       "      <th>4</th>\n",
       "      <td>0</td>\n",
       "      <td>2012-06-19 09:47:53</td>\n",
       "      <td>cxe1c,bu1ea1n,xuu1ed1ng,u0111u01b0u1eddng,biu1...</td>\n",
       "    </tr>\n",
       "    <tr>\n",
       "      <th>5</th>\n",
       "      <td>0</td>\n",
       "      <td>2012-06-20 17:12:26</td>\n",
       "      <td>sdl,ok,would,hope,theyd,sign,oneyear,contract,...</td>\n",
       "    </tr>\n",
       "    <tr>\n",
       "      <th>6</th>\n",
       "      <td>0</td>\n",
       "      <td>2012-05-03 01:26:28</td>\n",
       "      <td>yeah</td>\n",
       "    </tr>\n",
       "    <tr>\n",
       "      <th>7</th>\n",
       "      <td>1</td>\n",
       "      <td>NaT</td>\n",
       "      <td>shut,fuck,rest,faggot,friends,burned,stake</td>\n",
       "    </tr>\n",
       "    <tr>\n",
       "      <th>8</th>\n",
       "      <td>1</td>\n",
       "      <td>2012-05-02 17:35:53</td>\n",
       "      <td>either,fake,extremely,stupidmaybe</td>\n",
       "    </tr>\n",
       "    <tr>\n",
       "      <th>9</th>\n",
       "      <td>1</td>\n",
       "      <td>2012-06-20 16:05:12</td>\n",
       "      <td>idiot,understands,neither,taxation,womens,health</td>\n",
       "    </tr>\n",
       "  </tbody>\n",
       "</table>\n",
       "</div>"
      ],
      "text/plain": [
       "   Insult                Date  \\\n",
       "0       1 2012-06-18 19:21:55   \n",
       "1       0 2012-05-28 19:22:15   \n",
       "2       0                 NaT   \n",
       "3       0                 NaT   \n",
       "4       0 2012-06-19 09:47:53   \n",
       "5       0 2012-06-20 17:12:26   \n",
       "6       0 2012-05-03 01:26:28   \n",
       "7       1                 NaT   \n",
       "8       1 2012-05-02 17:35:53   \n",
       "9       1 2012-06-20 16:05:12   \n",
       "\n",
       "                                             Comment  \n",
       "0                                           fuck,dad  \n",
       "1  really,dont,understand,pointxa0,seems,mixing,a...  \n",
       "2  axc2xa0majority,canadians,wrong,againnnunless,...  \n",
       "3  listen,dont,wanna,get,married,man,women,dont,w...  \n",
       "4  cxe1c,bu1ea1n,xuu1ed1ng,u0111u01b0u1eddng,biu1...  \n",
       "5  sdl,ok,would,hope,theyd,sign,oneyear,contract,...  \n",
       "6                                               yeah  \n",
       "7         shut,fuck,rest,faggot,friends,burned,stake  \n",
       "8                  either,fake,extremely,stupidmaybe  \n",
       "9   idiot,understands,neither,taxation,womens,health  "
      ]
     },
     "execution_count": 62,
     "metadata": {},
     "output_type": "execute_result"
    }
   ],
   "source": [
    "train['Comment']=train['Comment'].apply(remove_stopwords)\n",
    "train.head(10)"
   ]
  },
  {
   "cell_type": "code",
   "execution_count": 64,
   "metadata": {},
   "outputs": [],
   "source": [
    "count_vectorizer=CountVectorizer()\n",
    "count_vectorizer.fit(train['Comment'])\n",
    "dictonary=count_vectorizer.vocabulary_.items()"
   ]
  },
  {
   "cell_type": "code",
   "execution_count": 65,
   "metadata": {},
   "outputs": [],
   "source": [
    "vocab=[]\n",
    "count=[]\n",
    "\n",
    "for key, val in dictonary:\n",
    "    vocab.append(key)\n",
    "    count.append(val)\n",
    "    \n",
    "vocab_bef_stem=pd.Series(count, index=vocab)\n",
    "vocab_bef_stem=vocab_bef_stem.sort_values(ascending=False)"
   ]
  },
  {
   "cell_type": "code",
   "execution_count": 67,
   "metadata": {},
   "outputs": [
    {
     "data": {
      "image/png": "[encoded data removed]",
      "text/plain": [
       "<Figure size 576x720 with 1 Axes>"
      ]
     },
     "metadata": {},
     "output_type": "display_data"
    }
   ],
   "source": [
    "top_vocabs=vocab_bef_stem.head(20)\n",
    "top_vocabs.plot(kind='barh', figsize=(8,10))\n",
    "plt.show()"
   ]
  },
  {
   "cell_type": "code",
   "execution_count": 68,
   "metadata": {},
   "outputs": [],
   "source": [
    "stemmer=SnowballStemmer('english')\n",
    "\n",
    "def stemming(comment):\n",
    "    text=[stemmer.stem(word) for word in comment.split()]\n",
    "    return \" \".join(comment)"
   ]
  },
  {
   "cell_type": "code",
   "execution_count": 69,
   "metadata": {},
   "outputs": [
    {
     "data": {
      "text/html": [
       "<div>\n",
       "<style scoped>\n",
       "    .dataframe tbody tr th:only-of-type {\n",
       "        vertical-align: middle;\n",
       "    }\n",
       "\n",
       "    .dataframe tbody tr th {\n",
       "        vertical-align: top;\n",
       "    }\n",
       "\n",
       "    .dataframe thead th {\n",
       "        text-align: right;\n",
       "    }\n",
       "</style>\n",
       "<table border=\"1\" class=\"dataframe\">\n",
       "  <thead>\n",
       "    <tr style=\"text-align: right;\">\n",
       "      <th></th>\n",
       "      <th>Insult</th>\n",
       "      <th>Date</th>\n",
       "      <th>Comment</th>\n",
       "    </tr>\n",
       "  </thead>\n",
       "  <tbody>\n",
       "    <tr>\n",
       "      <th>0</th>\n",
       "      <td>1</td>\n",
       "      <td>2012-06-18 19:21:55</td>\n",
       "      <td>f u c k , d a d</td>\n",
       "    </tr>\n",
       "    <tr>\n",
       "      <th>1</th>\n",
       "      <td>0</td>\n",
       "      <td>2012-05-28 19:22:15</td>\n",
       "      <td>r e a l l y , d o n t , u n d e r s t a n d , ...</td>\n",
       "    </tr>\n",
       "    <tr>\n",
       "      <th>2</th>\n",
       "      <td>0</td>\n",
       "      <td>NaT</td>\n",
       "      <td>a x c 2 x a 0 m a j o r i t y , c a n a d i a ...</td>\n",
       "    </tr>\n",
       "    <tr>\n",
       "      <th>3</th>\n",
       "      <td>0</td>\n",
       "      <td>NaT</td>\n",
       "      <td>l i s t e n , d o n t , w a n n a , g e t , m ...</td>\n",
       "    </tr>\n",
       "    <tr>\n",
       "      <th>4</th>\n",
       "      <td>0</td>\n",
       "      <td>2012-06-19 09:47:53</td>\n",
       "      <td>c x e 1 c , b u 1 e a 1 n , x u u 1 e d 1 n g ...</td>\n",
       "    </tr>\n",
       "    <tr>\n",
       "      <th>5</th>\n",
       "      <td>0</td>\n",
       "      <td>2012-06-20 17:12:26</td>\n",
       "      <td>s d l , o k , w o u l d , h o p e , t h e y d ...</td>\n",
       "    </tr>\n",
       "    <tr>\n",
       "      <th>6</th>\n",
       "      <td>0</td>\n",
       "      <td>2012-05-03 01:26:28</td>\n",
       "      <td>y e a h</td>\n",
       "    </tr>\n",
       "    <tr>\n",
       "      <th>7</th>\n",
       "      <td>1</td>\n",
       "      <td>NaT</td>\n",
       "      <td>s h u t , f u c k , r e s t , f a g g o t , f ...</td>\n",
       "    </tr>\n",
       "    <tr>\n",
       "      <th>8</th>\n",
       "      <td>1</td>\n",
       "      <td>2012-05-02 17:35:53</td>\n",
       "      <td>e i t h e r , f a k e , e x t r e m e l y , s ...</td>\n",
       "    </tr>\n",
       "    <tr>\n",
       "      <th>9</th>\n",
       "      <td>1</td>\n",
       "      <td>2012-06-20 16:05:12</td>\n",
       "      <td>i d i o t , u n d e r s t a n d s , n e i t h ...</td>\n",
       "    </tr>\n",
       "  </tbody>\n",
       "</table>\n",
       "</div>"
      ],
      "text/plain": [
       "   Insult                Date  \\\n",
       "0       1 2012-06-18 19:21:55   \n",
       "1       0 2012-05-28 19:22:15   \n",
       "2       0                 NaT   \n",
       "3       0                 NaT   \n",
       "4       0 2012-06-19 09:47:53   \n",
       "5       0 2012-06-20 17:12:26   \n",
       "6       0 2012-05-03 01:26:28   \n",
       "7       1                 NaT   \n",
       "8       1 2012-05-02 17:35:53   \n",
       "9       1 2012-06-20 16:05:12   \n",
       "\n",
       "                                             Comment  \n",
       "0                                    f u c k , d a d  \n",
       "1  r e a l l y , d o n t , u n d e r s t a n d , ...  \n",
       "2  a x c 2 x a 0 m a j o r i t y , c a n a d i a ...  \n",
       "3  l i s t e n , d o n t , w a n n a , g e t , m ...  \n",
       "4  c x e 1 c , b u 1 e a 1 n , x u u 1 e d 1 n g ...  \n",
       "5  s d l , o k , w o u l d , h o p e , t h e y d ...  \n",
       "6                                            y e a h  \n",
       "7  s h u t , f u c k , r e s t , f a g g o t , f ...  \n",
       "8  e i t h e r , f a k e , e x t r e m e l y , s ...  \n",
       "9  i d i o t , u n d e r s t a n d s , n e i t h ...  "
      ]
     },
     "execution_count": 69,
     "metadata": {},
     "output_type": "execute_result"
    }
   ],
   "source": [
    "train['Comment']=train['Comment'].apply(stemming)\n",
    "train.head(10)"
   ]
  },
  {
   "cell_type": "code",
   "execution_count": null,
   "metadata": {},
   "outputs": [],
   "source": []
  },
  {
   "cell_type": "code",
   "execution_count": null,
   "metadata": {},
   "outputs": [],
   "source": []
  }
 ],
 "metadata": {
  "kernelspec": {
   "display_name": "Python 3",
   "language": "python",
   "name": "python3"
  },
  "language_info": {
   "codemirror_mode": {
    "name": "ipython",
    "version": 3
   },
   "file_extension": ".py",
   "mimetype": "text/x-python",
   "name": "python",
   "nbconvert_exporter": "python",
   "pygments_lexer": "ipython3",
   "version": "3.6.5"
  }
 },
 "nbformat": 4,
 "nbformat_minor": 2
}
